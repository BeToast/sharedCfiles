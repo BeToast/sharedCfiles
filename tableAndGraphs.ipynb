{
 "cells": [
  {
   "cell_type": "code",
   "execution_count": 1,
   "metadata": {},
   "outputs": [],
   "source": [
    "import pandas as pd\n",
    "import numpy as np\n",
    "from os import walk, makedirs"
   ]
  },
  {
   "cell_type": "code",
   "execution_count": 2,
   "metadata": {},
   "outputs": [],
   "source": [
    "csvout_dir = \"csvout/problem2/\"\n",
    "x_runs_dirs = next(walk(csvout_dir))[1]"
   ]
  },
  {
   "cell_type": "code",
   "execution_count": 8,
   "metadata": {},
   "outputs": [
    {
     "ename": "ValueError",
     "evalue": "all the input array dimensions for the concatenation axis must match exactly, but along dimension 1, the array at index 0 has size 14 and the array at index 1 has size 13",
     "output_type": "error",
     "traceback": [
      "\u001b[0;31m---------------------------------------------------------------------------\u001b[0m",
      "\u001b[0;31mValueError\u001b[0m                                Traceback (most recent call last)",
      "\u001b[1;32m/home/blake/4thyear/sem2/realtimesystems/sharedCfiles/tableAndGraphs.ipynb Cell 3\u001b[0m in \u001b[0;36m1\n\u001b[1;32m     <a href='vscode-notebook-cell:/home/blake/4thyear/sem2/realtimesystems/sharedCfiles/tableAndGraphs.ipynb#X11sZmlsZQ%3D%3D?line=14'>15</a>\u001b[0m   append_list\u001b[39m.\u001b[39mextend(times)\n\u001b[1;32m     <a href='vscode-notebook-cell:/home/blake/4thyear/sem2/realtimesystems/sharedCfiles/tableAndGraphs.ipynb#X11sZmlsZQ%3D%3D?line=15'>16</a>\u001b[0m   curr_run\u001b[39m.\u001b[39mappend(append_list)\n\u001b[0;32m---> <a href='vscode-notebook-cell:/home/blake/4thyear/sem2/realtimesystems/sharedCfiles/tableAndGraphs.ipynb#X11sZmlsZQ%3D%3D?line=16'>17</a>\u001b[0m df \u001b[39m=\u001b[39m pd\u001b[39m.\u001b[39mDataFrame(np\u001b[39m.\u001b[39mrow_stack(curr_run))\n\u001b[1;32m     <a href='vscode-notebook-cell:/home/blake/4thyear/sem2/realtimesystems/sharedCfiles/tableAndGraphs.ipynb#X11sZmlsZQ%3D%3D?line=17'>18</a>\u001b[0m \u001b[39m## add to the list ##\u001b[39;00m\n\u001b[1;32m     <a href='vscode-notebook-cell:/home/blake/4thyear/sem2/realtimesystems/sharedCfiles/tableAndGraphs.ipynb#X11sZmlsZQ%3D%3D?line=18'>19</a>\u001b[0m outputs\u001b[39m.\u001b[39mupdate({\u001b[39mdir\u001b[39m : df})\n",
      "File \u001b[0;32m<__array_function__ internals>:5\u001b[0m, in \u001b[0;36mvstack\u001b[0;34m(*args, **kwargs)\u001b[0m\n",
      "File \u001b[0;32m/usr/lib/python3/dist-packages/numpy/core/shape_base.py:282\u001b[0m, in \u001b[0;36mvstack\u001b[0;34m(tup)\u001b[0m\n\u001b[1;32m    280\u001b[0m \u001b[39mif\u001b[39;00m \u001b[39mnot\u001b[39;00m \u001b[39misinstance\u001b[39m(arrs, \u001b[39mlist\u001b[39m):\n\u001b[1;32m    281\u001b[0m     arrs \u001b[39m=\u001b[39m [arrs]\n\u001b[0;32m--> 282\u001b[0m \u001b[39mreturn\u001b[39;00m _nx\u001b[39m.\u001b[39;49mconcatenate(arrs, \u001b[39m0\u001b[39;49m)\n",
      "File \u001b[0;32m<__array_function__ internals>:5\u001b[0m, in \u001b[0;36mconcatenate\u001b[0;34m(*args, **kwargs)\u001b[0m\n",
      "\u001b[0;31mValueError\u001b[0m: all the input array dimensions for the concatenation axis must match exactly, but along dimension 1, the array at index 0 has size 14 and the array at index 1 has size 13"
     ]
    }
   ],
   "source": [
    "outputs = {}\n",
    "for dir in x_runs_dirs:\n",
    "  files = next(walk(csvout_dir+dir))[2]\n",
    "  curr_run = list()\n",
    "  colnames = ['thread']\n",
    "  for i in range(1,13):\n",
    "    colnames.append(\"pass_\"+str(i))\n",
    "  colnames.append(\"total_time\")\n",
    "  curr_run.append(colnames)\n",
    "\n",
    "  for file in files:\n",
    "    col = pd.read_csv(f\"{csvout_dir}{dir}/{file}\").iloc[:, 1]\n",
    "    times = col.values.tolist()\n",
    "    append_list = [file]\n",
    "    append_list.extend(times)\n",
    "    curr_run.append(append_list)\n",
    "    \n",
    "  df = pd.DataFrame(np.row_stack(curr_run))\n",
    "  ## add to the list ##\n",
    "  outputs.update({dir : df})"
   ]
  },
  {
   "cell_type": "code",
   "execution_count": null,
   "metadata": {},
   "outputs": [],
   "source": []
  }
 ],
 "metadata": {
  "kernelspec": {
   "display_name": "Python 3",
   "language": "python",
   "name": "python3"
  },
  "language_info": {
   "codemirror_mode": {
    "name": "ipython",
    "version": 3
   },
   "file_extension": ".py",
   "mimetype": "text/x-python",
   "name": "python",
   "nbconvert_exporter": "python",
   "pygments_lexer": "ipython3",
   "version": "3.10.6"
  },
  "orig_nbformat": 4
 },
 "nbformat": 4,
 "nbformat_minor": 2
}
